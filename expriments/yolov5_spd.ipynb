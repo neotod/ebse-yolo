{
  "cells": [
    {
      "cell_type": "code",
      "execution_count": 1,
      "metadata": {
        "id": "Hdt0x5bsKk4R"
      },
      "outputs": [],
      "source": [
        "import torch\n",
        "from IPython.display import Image\n",
        "import shutil\n",
        "import os\n",
        "from random import choice"
      ]
    },
    {
      "cell_type": "code",
      "execution_count": null,
      "metadata": {
        "colab": {
          "base_uri": "https://localhost:8080/"
        },
        "id": "uGiQi5sLTV9k",
        "outputId": "28d6005f-caa2-4a48-c76e-6ddb036298a2"
      },
      "outputs": [
        {
          "output_type": "stream",
          "name": "stdout",
          "text": [
            "--2024-06-02 20:08:15--  http://images.cocodataset.org/zips/train2017.zip\n",
            "Resolving images.cocodataset.org (images.cocodataset.org)... 3.5.28.246, 52.216.89.212, 52.217.142.177, ...\n",
            "Connecting to images.cocodataset.org (images.cocodataset.org)|3.5.28.246|:80... connected.\n",
            "HTTP request sent, awaiting response... 200 OK\n",
            "Length: 19336861798 (18G) [application/zip]\n",
            "Saving to: ‘/content/drive/MyDrive/coco/train2017.zip’\n",
            "\n",
            "train2017.zip        48%[========>           ]   8.78G  33.2MB/s    eta 5m 0s  "
          ]
        }
      ],
      "source": [
        "# Download 2017 Train images\n",
        "!wget http://images.cocodataset.org/zips/train2017.zip -P /content/drive/MyDrive/coco/\n",
        "\n",
        "# Download 2017 Val images\n",
        "!wget http://images.cocodataset.org/zips/val2017.zip -P /content/drive/MyDrive/coco/\n",
        "\n",
        "# Download 2017 Train/Val annotations\n",
        "!wget http://images.cocodataset.org/annotations/annotations_trainval2017.zip -P /content/drive/MyDrive/coco/"
      ]
    },
    {
      "cell_type": "code",
      "execution_count": null,
      "metadata": {
        "colab": {
          "background_save": true
        },
        "id": "kHBqqHiCgn1l"
      },
      "outputs": [],
      "source": [
        "!mkdir /content/drive/MyDrive/coco/tmp/\n",
        "!cp /content/drive/MyDrive/coco/* /content/drive/MyDrive/coco/tmp/"
      ]
    },
    {
      "cell_type": "code",
      "execution_count": null,
      "metadata": {
        "id": "yo1_5clpYQpz"
      },
      "outputs": [],
      "source": [
        "# Extract train images\n",
        "!unzip /content/drive/MyDrive/coco/train2017.zip -d /content/drive/MyDrive/coco/\n",
        "\n",
        "# Extract val images\n",
        "!unzip /content/drive/MyDrive/coco/val2017.zip -d /content/drive/MyDrive/coco/\n",
        "\n",
        "# Extract annotations\n",
        "!unzip /content/drive/MyDrive/coco/annotations_trainval2017.zip -d /content/drive/MyDrive/coco/"
      ]
    },
    {
      "cell_type": "code",
      "execution_count": null,
      "metadata": {
        "id": "qU8_4b-ZX4kN"
      },
      "outputs": [],
      "source": []
    },
    {
      "cell_type": "code",
      "execution_count": null,
      "metadata": {
        "id": "r7DHxIJ3LWTl"
      },
      "outputs": [],
      "source": [
        "!git clone https://github.com/LabSAINT/SPD-Conv.git"
      ]
    },
    {
      "cell_type": "code",
      "execution_count": null,
      "metadata": {
        "id": "nV0Tv4fnN63J"
      },
      "outputs": [],
      "source": [
        "%cd /content/SPD-Conv/\n",
        "!pip install -r requirements.txt"
      ]
    },
    {
      "cell_type": "code",
      "execution_count": null,
      "metadata": {
        "id": "saqYezp6OB-w"
      },
      "outputs": [],
      "source": [
        "%cd /content/SPD-Conv/YOLOv5-SPD/"
      ]
    },
    {
      "cell_type": "code",
      "execution_count": null,
      "metadata": {
        "id": "huvbMoxUYRr7"
      },
      "outputs": [],
      "source": [
        "import yaml\n",
        "\n",
        "# Define the YAML content as a dictionary\n",
        "coco_yaml = {\n",
        "    'path': '/content/drive/MyDrive/coco/',\n",
        "    'train': 'images/train2017',\n",
        "    'val': 'images/val2017',\n",
        "    'nc': 80,\n",
        "    'names': ['person', 'bicycle', 'car', 'motorcycle', 'airplane', 'bus', 'train', 'truck', 'boat', 'traffic light',\n",
        "              'fire hydrant', 'stop sign', 'parking meter', 'bench', 'bird', 'cat', 'dog', 'horse', 'sheep', 'cow',\n",
        "              'elephant', 'bear', 'zebra', 'giraffe', 'backpack', 'umbrella', 'handbag', 'tie', 'suitcase', 'frisbee',\n",
        "              'skis', 'snowboard', 'sports ball', 'kite', 'baseball bat', 'baseball glove', 'skateboard', 'surfboard',\n",
        "              'tennis racket', 'bottle', 'wine glass', 'cup', 'fork', 'knife', 'spoon', 'bowl', 'banana', 'apple',\n",
        "              'sandwich', 'orange', 'broccoli', 'carrot', 'hot dog', 'pizza', 'donut', 'cake', 'chair', 'couch',\n",
        "              'potted plant', 'bed', 'dining table', 'toilet', 'tv', 'laptop', 'mouse', 'remote', 'keyboard', 'cell phone',\n",
        "              'microwave', 'oven', 'toaster', 'sink', 'refrigerator', 'book', 'clock', 'vase', 'scissors', 'teddy bear',\n",
        "              'hair drier', 'toothbrush']\n",
        "}\n",
        "\n",
        "# Create a YAML file and write the content\n",
        "with open('coco.yaml', 'w') as file:\n",
        "    yaml.dump(coco_yaml, file)\n",
        "\n",
        "print(\"YAML file 'coco.yaml' has been created successfully.\")"
      ]
    },
    {
      "cell_type": "code",
      "execution_count": null,
      "metadata": {
        "id": "9wfaDOzafwnr"
      },
      "outputs": [],
      "source": [
        "import yaml\n",
        "\n",
        "# Define the YAML content as a dictionary\n",
        "hyp_yaml = {\n",
        "    'lr0': 0.01,  # initial learning rate (SGD=1E-2, Adam=1E-3)\n",
        "    'lrf': 0.01,  # final OneCycleLR learning rate (lr0 * lrf)\n",
        "    'momentum': 0.937,  # SGD momentum/Adam beta1\n",
        "    'weight_decay': 0.0005,  # optimizer weight decay 5e-4\n",
        "    'warmup_epochs': 3.0,  # warmup epochs (fractions ok)\n",
        "    'warmup_momentum': 0.8,  # warmup initial momentum\n",
        "    'warmup_bias_lr': 0.1,  # warmup initial bias lr\n",
        "    'box': 0.05,  # box loss gain\n",
        "    'cls': 0.5,  # cls loss gain\n",
        "    'cls_pw': 1.0,  # cls BCELoss positive_weight\n",
        "    'obj': 1.0,  # obj loss gain (scale with pixels)\n",
        "    'obj_pw': 1.0,  # obj BCELoss positive_weight\n",
        "    'iou_t': 0.20,  # IoU training threshold\n",
        "    'anchor_t': 4.0,  # anchor-multiple threshold\n",
        "    'fl_gamma': 0.0,  # focal loss gamma (efficientDet default gamma=1.5)\n",
        "    'hsv_h': 0.015,  # image HSV-Hue augmentation (fraction)\n",
        "    'hsv_s': 0.7,  # image HSV-Saturation augmentation (fraction)\n",
        "    'hsv_v': 0.4,  # image HSV-Value augmentation (fraction)\n",
        "    'degrees': 0.0,  # image rotation (+/- deg)\n",
        "    'translate': 0.1,  # image translation (+/- fraction)\n",
        "    'scale': 0.5,  # image scale (+/- gain)\n",
        "    'shear': 0.0,  # image shear (+/- deg)\n",
        "    'perspective': 0.0,  # image perspective (+/- fraction), range 0-0.001\n",
        "    'flipud': 0.0,  # image flip up-down (probability)\n",
        "    'fliplr': 0.5,  # image flip left-right (probability)\n",
        "    'mosaic': 1.0,  # image mosaic (probability)\n",
        "    'mixup': 0.0,  # image mixup (probability)\n",
        "    'copy_paste': 0.0  # segment copy-paste (probability)\n",
        "}\n",
        "\n",
        "# Create a YAML file and write the content\n",
        "with open('hyp.scratch_s.yaml', 'w') as file:\n",
        "    yaml.dump(hyp_yaml, file)\n",
        "\n",
        "print(\"YAML file 'hyp.scratch_s.yaml' has been created successfully.\")"
      ]
    },
    {
      "cell_type": "code",
      "execution_count": null,
      "metadata": {
        "id": "WPneHDJFYWhB"
      },
      "outputs": [],
      "source": [
        "!cp /content/SPD-Conv/requirements.txt /content/SPD-Conv/YOLOv5-SPD/"
      ]
    },
    {
      "cell_type": "code",
      "execution_count": null,
      "metadata": {
        "id": "sC5JdU4mYqjd"
      },
      "outputs": [],
      "source": [
        "!"
      ]
    },
    {
      "cell_type": "code",
      "execution_count": null,
      "metadata": {
        "id": "-Tgx9mj0O54b"
      },
      "outputs": [],
      "source": [
        "!python3 train.py --data coco.yaml --cfg ./models/space_depth_s.yaml --weights '' --batch-size 128 --epochs 300 --sync-bn --project space_depth --name space_depth_s --hyp hyp.scratch_s.yaml"
      ]
    },
    {
      "cell_type": "code",
      "execution_count": null,
      "metadata": {
        "id": "-dV_uqXROPgx"
      },
      "outputs": [],
      "source": [
        "!ls"
      ]
    }
  ],
  "metadata": {
    "accelerator": "GPU",
    "colab": {
      "gpuType": "T4",
      "provenance": []
    },
    "kernelspec": {
      "display_name": "Python 3",
      "name": "python3"
    },
    "language_info": {
      "name": "python"
    }
  },
  "nbformat": 4,
  "nbformat_minor": 0
}